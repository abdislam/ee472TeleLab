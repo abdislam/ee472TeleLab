{
 "cells": [
  {
   "cell_type": "markdown",
   "metadata": {
    "collapsed": false
   },
   "source": [
    "# FOURIER SERIES\n",
    "\n",
    "## Objective\n",
    "This experiment aims:\n",
    "\n",
    "1-To verify Fourier series through synthesizing certain wave shapes using orthogonal sinusoidal signals.\n",
    "\n",
    "## Introduction\n",
    "Fourier series is an important technique that is widely used in mathematics, physics and engineering. It is a mathematical operation that represent periodic functions in an infinitely sums of sine and cosine with different frequencies. Fourier series has many applications like harmonic analysis, data compression, and solving partial differential equations...\n",
    "In this experiment, we will construct certain functions using sine and cosine signals of different frequencies; this operation is called Fourier synthesis, which is the opposite of Fourier analysis. Also we will observe Gibbs phenomena which arise from Fourier series representation of discontinuous signals, such as square wave.\n",
    "\n",
    "## SYNTHESIS OF A SQUARE WAVE\n",
    "<img src=\"files/FourierSeries.png\">\n",
    "![alt text](files/FW.png)\n",
    "<img src=\"files/Sq.png\">\n",
    "![alt text](files/SW.png)\n",
    "![alt text](files/FW.png)\n",
    "<img src=\"files/Sq.png\">\n",
    "![alt text](files/SW.png)\n",
    "Preliminary work; Figure A-2 shows:\n",
    "- The mathematical expression for the square wave\n",
    "- Its expansion into the Fourier’s series\n",
    "- Its graphic representation.\n",
    "Calculate the Amplitude coefficients or the various terms:\n",
    "- DC component = 0\n",
    "- Fundamental = 4/π = 1.273\n",
    "- 3rd harmonic = 4/3π = 0.424\n",
    "- 5th harmonic = 4/5π = 0.254\n",
    "- 7th harmonic = 4/7π = 0.182\n",
    "Choose for the fundamental a higher amplitude, Why? for example 4Vpp so all the other coefficients shall have to be multiplied by π.\n",
    "\n",
    "$$f(x) = \\begin{equation}|sin(x)|, -\\pi < x < \\pi \\end{equation}$$\n",
    "$$\\begin{equation} \\frac{2}{\\pi} - \\frac{4}{\\pi}(\\frac{cos(2x)}{1*3}+\\frac{cos(4x)}{3*5}+\\frac{cos(6x)}{5*7}+ ...)\\end{equation}$$\n",
     "$$f(x) = \\begin{equation}\n",
    "\\left\\{\n",
    "  \\begin{aligned}\n",
    "    &1 , &0 < x < \\pi\\\\\n",
    "    &-1 , &-\\pi < x < 0\\\\\n",
    "  \\end{aligned}\n",
    "  \\right.\n",
    "\\end{equation}\n",
    "$$\n",
   "$$\\begin{equation} \\frac{4}{\\pi} (\\frac{sin(x)}{1}+\\frac{sin(3x)}{3}+\\frac{sin(5x)}{5}+ ...)\\end{equation}$$\n",
    "$$f(x) = \\begin{equation} x, -\\pi < x < \\pi \\end{equation}$$\n",
    "$$\\begin{equation} 2 (\\frac{sin(x)}{1}-\\frac{sin(2x)}{2}+\\frac{sin(3x)}{3}- ...)\\end{equation}$$",
    "\n"
   ]
  },
  {
   "cell_type": "code",
   "execution_count": 30,
   "metadata": {
    "collapsed": false
   },
   "outputs": [
    {
     "data": {
      "image/png": "[encoded data removed]",
      "text/plain": [
       "<IPython.core.display.Image object>"
      ]
     },
     "execution_count": 30,
     "metadata": {
     },
     "output_type": "execute_result"
    }
   ],
   "source": [
    "fs = 1e3;\n",
    "t  = 0:1/fs:1;\n",
    "\n",
    "sq = sign(-t+0.5);\n",
    "g1 = 0;\n",
    "for i = 1:2:10\n",
    "    g1 = g1 + 4*sin(2*pi*i*t)/pi/i;\n",
    "end\n",
    "\n",
    "fw = abs(sin(2*pi*t));\n",
    "g2 = 2/pi;\n",
    "for i = 2:2:10\n",
    "    g2 = g2 - 4*cos(2*pi*i*t)/pi/(i^2-1);\n",
    "end\n",
    "\n",
    "st = [ 2*pi*( t(1 : fs/2)) 2*pi*( t( fs/2+1 : end) - 1) ];\n",
    "g3 = 0;\n",
    "for i = 1:10\n",
    "    g3 = g3 + (-1)^(i-1)*2 * sin(2*pi*i*t)/i;\n",
    "end\n",
    "\n",
    "figure();\n",
    "subplot(311); plot(t,sq);hold on; plot(t,g1); hold off;grid on;\n",
    "subplot(312); plot(t,fw);hold on; plot(t,g2); hold off;grid on;\n",
    "subplot(313); plot(t,st);hold on; plot(t,g3); hold off;grid on;"
   ]
  },
  {
   "cell_type": "markdown",
   "metadata": {
    "collapsed": false
   },
   "source": [
    "\n",
    "- Now, you are asked to create two sinusoidal signals of 10 Hz and 100 Hz frequencies and find: First, the multiplication, use element multiplication. Second, the summation. Third, the exponent of the summation minus 1. Compare the three outputs in time and frequency domain and comment."
   ]
  }
 ],
 "metadata": {
  "kernelspec": {
   "display_name": "Octave",
   "language": "octave",
   "name": "octave"
  },
  "language_info": {
   "file_extension": ".m",
   "help_links": [
    {
     "text": "GNU Octave",
     "url": "https://www.gnu.org/software/octave/support.html"
    },
    {
     "text": "Octave Kernel",
     "url": "https://github.com/Calysto/octave_kernel"
    },
    {
     "text": "MetaKernel Magics",
     "url": "https://metakernel.readthedocs.io/en/latest/source/README.html"
    }
   ],
   "mimetype": "text/x-octave",
   "name": "octave",
   "version": "5.2.0"
  }
 },
 "nbformat": 4,
 "nbformat_minor": 4
}
